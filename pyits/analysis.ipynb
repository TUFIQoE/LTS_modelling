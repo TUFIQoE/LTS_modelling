{
 "cells": [
  {
   "cell_type": "code",
   "execution_count": null,
   "metadata": {},
   "outputs": [],
   "source": [
    "from pyits.__main__ import Arguments\n",
    "import argparse\n",
    "import dataclasses\n",
    "from dataclasses import dataclass, fields, MISSING, field\n",
    "import logging\n",
    "\n",
    "import gsd\n",
    "import pandas as pd\n",
    "import numpy as np\n",
    "import jax\n",
    "import jax.numpy as jnp\n",
    "from jax import Array\n",
    "from jax.typing import ArrayLike"
   ]
  },
  {
   "cell_type": "markdown",
   "metadata": {},
   "source": [
    "# HDTV"
   ]
  },
  {
   "cell_type": "code",
   "execution_count": null,
   "metadata": {},
   "outputs": [],
   "source": [
    "args = Arguments(inp='/Users/krzysiek/Documents/gsd-bayes/data/subjective_quality_datasets.csv', out='log/hdtv.csv')"
   ]
  },
  {
   "cell_type": "code",
   "execution_count": null,
   "metadata": {},
   "outputs": [],
   "source": [
    "df = pd.read_csv(args.inp)\n",
    "\n",
    "infos = []\n",
    "\n",
    "#hdtv\n",
    "for eid in range(1,7):\n",
    "    dfe = df.loc[df.Experiment == eid, :]\n",
    "\n",
    "    pvss = dfe['PVS_id'].unique()\n",
    "\n",
    "    for pvs in pvss:\n",
    "        arr = dfe.loc[dfe.PVS_id == pvs, 'Score'].to_numpy()\n",
    "        counts_arr = gsd.sufficient_statistic(arr)\n",
    "\n",
    "        hat, opt_state = gsd.fit_mle(counts_arr)\n",
    "\n",
    "        fhat = jax.tree_util.tree_map(float, hat)\n",
    "        info = dict(eid=eid, pvs=pvs, **fhat._asdict())\n",
    "        print(info)\n",
    "        infos.append(info)\n",
    "\n",
    "pd.DataFrame(infos).to_csv(args.out)\n",
    "\n"
   ]
  },
  {
   "cell_type": "markdown",
   "metadata": {},
   "source": [
    "# Its\n",
    "\n",
    "data for GSD analysis. week is video, q2 is subject answer. Generated from phase4_current_results_p1204.csv"
   ]
  },
  {
   "cell_type": "code",
   "execution_count": null,
   "metadata": {},
   "outputs": [],
   "source": [
    "args = Arguments(inp='../4phase_real_analysis/for_krzysiek.csv', out='log/its.csv')"
   ]
  },
  {
   "cell_type": "code",
   "execution_count": null,
   "metadata": {},
   "outputs": [],
   "source": [
    "df = pd.read_csv(args.inp)\n",
    "df7=df.loc[df.n==7,:]"
   ]
  },
  {
   "cell_type": "code",
   "execution_count": null,
   "metadata": {},
   "outputs": [],
   "source": [
    "infos=[]\n",
    "ws = df7.week.unique()\n",
    "for w in ws:\n",
    "    scores = df7.loc[df7.week==w,'q2'].to_numpy()\n",
    "    counts_arr =  gsd.sufficient_statistic(scores)\n",
    "    hat, opt_state = gsd.fit_mle(counts_arr)\n",
    "\n",
    "    fhat = jax.tree_util.tree_map(float, hat)\n",
    "    info = dict(pvs=w, **fhat._asdict())\n",
    "    print(info)\n",
    "    infos.append(info)"
   ]
  },
  {
   "cell_type": "code",
   "execution_count": null,
   "metadata": {},
   "outputs": [],
   "source": [
    "pd.DataFrame(infos).to_csv(args.out)"
   ]
  },
  {
   "cell_type": "markdown",
   "metadata": {},
   "source": [
    "# Figure"
   ]
  },
  {
   "cell_type": "code",
   "execution_count": null,
   "metadata": {},
   "outputs": [],
   "source": [
    "import seaborn as sns\n",
    "\n",
    "hdtv = pd.read_csv('log/hdtv.csv')\n",
    "its = pd.read_csv('log/its.csv')"
   ]
  },
  {
   "cell_type": "code",
   "execution_count": null,
   "metadata": {},
   "outputs": [],
   "source": [
    "import matplotlib.pyplot as plt\n",
    "\n",
    "sns.displot(data=hdtv, x='psi',y='rho', kind='kde')\n",
    "sns.scatterplot(data=its,x='psi',y='rho', color='k')\n",
    "plt.legend(['its'])\n",
    "plt.title(\"density of GSD parameters\")\n",
    "plt.savefig('log/psirho_hist2d.pdf')"
   ]
  },
  {
   "cell_type": "code",
   "execution_count": null,
   "metadata": {},
   "outputs": [],
   "source": []
  }
 ],
 "metadata": {
  "kernelspec": {
   "display_name": "venv",
   "language": "python",
   "name": "python3"
  },
  "language_info": {
   "codemirror_mode": {
    "name": "ipython",
    "version": 3
   },
   "file_extension": ".py",
   "mimetype": "text/x-python",
   "name": "python",
   "nbconvert_exporter": "python",
   "pygments_lexer": "ipython3",
   "version": "3.11.4"
  },
  "orig_nbformat": 4
 },
 "nbformat": 4,
 "nbformat_minor": 2
}
