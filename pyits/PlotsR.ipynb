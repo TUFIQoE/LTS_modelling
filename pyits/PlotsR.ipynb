{
  "nbformat": 4,
  "nbformat_minor": 0,
  "metadata": {
    "colab": {
      "provenance": []
    },
    "kernelspec": {
      "name": "ir",
      "display_name": "R"
    },
    "language_info": {
      "name": "R"
    }
  },
  "cells": [
    {
      "cell_type": "code",
      "source": [
        "require(ggplot2)\n",
        "require(dplyr)\n",
        "require(readr)"
      ],
      "metadata": {
        "id": "jpTEMXk0L4D5"
      },
      "execution_count": null,
      "outputs": []
    },
    {
      "cell_type": "code",
      "source": [
        "install.packages(\"scdensity\")\n",
        "require(scdensity)"
      ],
      "metadata": {
        "id": "1G_GHejWL0WQ"
      },
      "execution_count": null,
      "outputs": []
    },
    {
      "cell_type": "code",
      "source": [
        "read_csv('hdtv.csv')->hdtv\n",
        "read_csv('its.csv')->its\n",
        "#its$experiment<-\"Its\""
      ],
      "metadata": {
        "id": "rFkm-iKkH-wI"
      },
      "execution_count": null,
      "outputs": []
    },
    {
      "cell_type": "code",
      "source": [
        "install.packages(\"tikzDevice\")\n",
        "library(tikzDevice)\n"
      ],
      "metadata": {
        "id": "sFWREQjpVzw-"
      },
      "execution_count": null,
      "outputs": []
    },
    {
      "cell_type": "code",
      "source": [
        "#tikz(\"kde.tex\", width = 5, height = 4)\n",
        "\n",
        "pl<-ggplot( data = hdtv,aes(x=psi, y=rho)) +\n",
        "  geom_density_2d(aes(color = ..level..),show.legend = TRUE, size=1.)+\n",
        "  geom_point(data=its, aes(x=psi, y=rho,shape=\"Its\"),size=4,show.legend = TRUE, color=\"black\") +\n",
        "  labs(color = \"kde HDTV\", shape=\"\",    x = expression(psi),\n",
        "    y = expression(rho),)+ scale_color_viridis_c(option=\"A\")+\n",
        "  scale_shape_manual(values = 4) +\n",
        "  theme_minimal() +\n",
        "  theme(\n",
        "    legend.position = \"right\",\n",
        "    legend.title = element_text(size = 12),\n",
        "    legend.text = element_text(size = 10),\n",
        "    plot.title = element_text(size = 16, hjust = 0.5),\n",
        "    axis.title.x = element_text(size = 14),\n",
        "    axis.title.y = element_text(size = 14)\n",
        "  )\n",
        "pl\n",
        "# Save the plot as a high-resolution image (e.g., PDF or PNG) for publication\n",
        "ggsave(\"kde.pdf\", pl, width = 8, height = 6, dpi = 300)\n",
        "\n",
        "#theme_bw()\n",
        "#dev.off()\n"
      ],
      "metadata": {
        "id": "02QowWo0K6yy"
      },
      "execution_count": null,
      "outputs": []
    }
  ]
}